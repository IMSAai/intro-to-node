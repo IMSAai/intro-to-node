{
 "cells": [
  {
   "cell_type": "markdown",
   "metadata": {},
   "source": [
    "# Unit 2, Lesson 1\n",
    "$\\textbf{Variables in Node.JS}$  \n",
    "$\\text{Written by:}  $  \n",
    "$\\text{Dev Singh, Class of 2022}$  \n",
    "$\\text{Last Revised: March 2020}$"
   ]
  },
  {
   "cell_type": "markdown",
   "metadata": {},
   "source": [
    "Unlike languages that you may be used to, such as Python, Node.JS and JavaScript have 3 types of variables: `var`, `let`, and `const`. `let` and `const` are more specific types of the generic variable declaration `var`. Any data type can be stored in any variable, however, they are all slightly different. Let's take a look at these differences. \n"
   ]
  },
  {
   "cell_type": "markdown",
   "metadata": {},
   "source": [
    "## `var`"
   ]
  },
  {
   "cell_type": "markdown",
   "metadata": {},
   "source": [
    "`var` is the most generic form of variables in JS. It could contain a constant value or one that is changeable. `var` exists in the function scope (its value is present throughout the function in which it was declared).`var` is also hoisted to the top of the block, meaning that the variable has been initialized in its scope before its value has been declared. `var` also adds values to the global object property. \n"
   ]
  },
  {
   "cell_type": "code",
   "execution_count": 3,
   "metadata": {},
   "outputs": [],
   "source": [
    "var someString = `hello, world!`"
   ]
  },
  {
   "cell_type": "markdown",
   "metadata": {},
   "source": [
    "## `let`"
   ]
  },
  {
   "cell_type": "markdown",
   "metadata": {},
   "source": [
    "`let` was introduced with the ECMAScript 6th edition draft. It is designed to store changing values. Its scope is different from `var` in that it is only accessible in the block that it was defined. `let` is not hoisted as “var” is; this means that calling a `let`-declared variable before it has been assigned a value will result in a `ReferenceError`. `let` does not add values to the global object property. \n"
   ]
  },
  {
   "cell_type": "markdown",
   "metadata": {},
   "source": [
    "## `const`"
   ]
  },
  {
   "cell_type": "markdown",
   "metadata": {},
   "source": [
    "`const` was also introduced in the ECMAScript 6th edition draft. It is designed to store non-changing values. Reassigning the value of a const will cause an error (to which there are some exceptions). It follows the same rules as `let`. \n"
   ]
  },
  {
   "cell_type": "code",
   "execution_count": null,
   "metadata": {},
   "outputs": [],
   "source": []
  }
 ],
 "metadata": {
  "kernelspec": {
   "display_name": "Javascript (Node.js)",
   "language": "javascript",
   "name": "javascript"
  },
  "language_info": {
   "file_extension": ".js",
   "mimetype": "application/javascript",
   "name": "javascript",
   "version": "12.16.1"
  }
 },
 "nbformat": 4,
 "nbformat_minor": 4
}
