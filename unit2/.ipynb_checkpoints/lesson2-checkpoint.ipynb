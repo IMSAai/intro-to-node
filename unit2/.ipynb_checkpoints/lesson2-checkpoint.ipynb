{
 "cells": [
  {
   "cell_type": "markdown",
   "metadata": {},
   "source": [
    "# Unit 2, Lesson 2\n",
    "$\\textbf{Datatypes in Node.JS}$  \n",
    "$\\text{Written by:}  $  \n",
    "$\\text{Dev Singh, Class of 2022}$  \n",
    "$\\text{Last Revised: March 2020}$"
   ]
  },
  {
   "cell_type": "markdown",
   "metadata": {},
   "source": [
    "Like most scripting languages, JS is a \"duck-typed\" language, and therefore every variable is defined using the keywords var, let, or const. This variable can contain any type of variable. While most of them should be similar to what you have learned in CSI, let’s go over a few of them.\n"
   ]
  },
  {
   "cell_type": "markdown",
   "metadata": {},
   "source": [
    "## String"
   ]
  },
  {
   "cell_type": "markdown",
   "metadata": {},
   "source": [
    "A string is simply a series of characters, like “Hello, world”. They are defined in JS as such:\n"
   ]
  },
  {
   "cell_type": "code",
   "execution_count": 1,
   "metadata": {},
   "outputs": [],
   "source": [
    "const helloWorld = \"Hello, World!\""
   ]
  },
  {
   "cell_type": "markdown",
   "metadata": {},
   "source": [
    "You can use both single-quotes and double-quotes for defining strings, but please be consistent! It’s important for other developers to be able to read your code. \n"
   ]
  },
  {
   "cell_type": "markdown",
   "metadata": {},
   "source": [
    "## Number"
   ]
  },
  {
   "cell_type": "markdown",
   "metadata": {},
   "source": [
    "JS only has one type of numbers (there is no int, float, etc). All numberes are, by default, double precision floating point numbers. Numbers can be written with or without decimals, and in scientific notation. \n"
   ]
  },
  {
   "cell_type": "code",
   "execution_count": 2,
   "metadata": {},
   "outputs": [],
   "source": [
    "const daysSinceLastLogin = 3\n",
    "const userRating = 6.9\n",
    "const avagadrosNumber = 6.022e23"
   ]
  },
  {
   "cell_type": "markdown",
   "metadata": {},
   "source": [
    "## Booleans"
   ]
  },
  {
   "cell_type": "markdown",
   "metadata": {},
   "source": [
    "Booleans can only hold two values: true or false. They are very simple to define in JS. They are often used in conditional evaluation (if, elif, else). \n"
   ]
  },
  {
   "cell_type": "code",
   "execution_count": 3,
   "metadata": {},
   "outputs": [],
   "source": [
    "let isSignedIn = true\n",
    "let isIMSAStudent = false\n",
    "let michaelIsLame = true"
   ]
  },
  {
   "cell_type": "markdown",
   "metadata": {},
   "source": [
    "## Undefined and Null"
   ]
  },
  {
   "cell_type": "markdown",
   "metadata": {},
   "source": [
    "JS variables without any value have the value undefined. Their type is also undefined. You can empty a variable by setting its value to undefined. \n"
   ]
  },
  {
   "cell_type": "markdown",
   "metadata": {},
   "source": [
    "In JS, null is “nothing”. It doesn’t exist. While the value of null is null, the type is Object (this is essentially a bug in JS. null should have the type null). You can empty a variable by setting its value to null. \n"
   ]
  },
  {
   "cell_type": "code",
   "execution_count": 1,
   "metadata": {},
   "outputs": [
    {
     "name": "stdout",
     "output_type": "stream",
     "text": [
      "undefined\n"
     ]
    }
   ],
   "source": [
    "let car = undefined\n",
    "console.log(car)"
   ]
  },
  {
   "cell_type": "code",
   "execution_count": 2,
   "metadata": {},
   "outputs": [
    {
     "name": "stdout",
     "output_type": "stream",
     "text": [
      "null\n",
      "object\n"
     ]
    }
   ],
   "source": [
    "let carr = null\n",
    "console.log(carr)\n",
    "console.log(typeof(carr))"
   ]
  },
  {
   "cell_type": "markdown",
   "metadata": {},
   "source": [
    "## Arrays"
   ]
  },
  {
   "cell_type": "markdown",
   "metadata": {},
   "source": [
    "Arrays in JS are the equivalent of lists in Python. They are used to store multiple values in one variable. Data types can be mixed within arrays. Members of arrays can be referred to with their index. **PLEASE REMEMBER: ARRAYS START AT 0!!**\n"
   ]
  },
  {
   "cell_type": "code",
   "execution_count": 4,
   "metadata": {},
   "outputs": [],
   "source": [
    "const classes = [null, \"LE2\", \"AmStud\", \"BC 1/2\", [\"CSI\", \"MSI\"], \"Spanish 3\", null]"
   ]
  },
  {
   "cell_type": "code",
   "execution_count": 5,
   "metadata": {},
   "outputs": [
    {
     "name": "stdout",
     "output_type": "stream",
     "text": [
      "[\n",
      "  false,\n",
      "  'LE2',\n",
      "  'AmStud',\n",
      "  'BC 1/2',\n",
      "  [ 'CSI', 'MSI' ],\n",
      "  'Spanish 3',\n",
      "  false\n",
      "]\n"
     ]
    }
   ],
   "source": [
    "console.log(classes)"
   ]
  },
  {
   "cell_type": "code",
   "execution_count": 6,
   "metadata": {},
   "outputs": [
    {
     "name": "stdout",
     "output_type": "stream",
     "text": [
      "false\n"
     ]
    }
   ],
   "source": [
    "console.log(classes[0])"
   ]
  },
  {
   "cell_type": "code",
   "execution_count": 7,
   "metadata": {},
   "outputs": [
    {
     "name": "stdout",
     "output_type": "stream",
     "text": [
      "7\n"
     ]
    }
   ],
   "source": [
    "console.log(classes.length)"
   ]
  },
  {
   "cell_type": "code",
   "execution_count": 10,
   "metadata": {},
   "outputs": [
    {
     "name": "stdout",
     "output_type": "stream",
     "text": [
      "undefined\n"
     ]
    }
   ],
   "source": [
    "console.log(classes[0].length)"
   ]
  },
  {
   "cell_type": "code",
   "execution_count": 11,
   "metadata": {},
   "outputs": [
    {
     "name": "stdout",
     "output_type": "stream",
     "text": [
      "MSI\n"
     ]
    }
   ],
   "source": [
    "console.log(classes[4][1])"
   ]
  },
  {
   "cell_type": "code",
   "execution_count": 12,
   "metadata": {},
   "outputs": [
    {
     "name": "stdout",
     "output_type": "stream",
     "text": [
      "2\n"
     ]
    }
   ],
   "source": [
    "console.log(classes[4].length)"
   ]
  },
  {
   "cell_type": "markdown",
   "metadata": {},
   "source": [
    "## Objects"
   ]
  },
  {
   "cell_type": "markdown",
   "metadata": {},
   "source": [
    "JS objects are written with curly braces {} and store information as name-value pairs. DO NOT confuse these with objects in Object-Oriented Programming; while similar in concept, they do not represent what Object-Oriented Programming is designed to do. We will discuss true Object-Oriented programming later on in the course.\n"
   ]
  },
  {
   "cell_type": "code",
   "execution_count": 13,
   "metadata": {},
   "outputs": [],
   "source": [
    "let student = {firstName: \"Dev\", lastName: \"Singh\", hall: 1507, wing: \"B\", classes:[false, \"LE2\", \"AmStud\", \"BC 1/2\", [\"CSI\", \"MSI\"], \"Spanish 3\", false]}"
   ]
  },
  {
   "cell_type": "code",
   "execution_count": 14,
   "metadata": {},
   "outputs": [
    {
     "name": "stdout",
     "output_type": "stream",
     "text": [
      "Dev\n"
     ]
    }
   ],
   "source": [
    "console.log(student.firstName)"
   ]
  },
  {
   "cell_type": "code",
   "execution_count": 15,
   "metadata": {},
   "outputs": [
    {
     "name": "stdout",
     "output_type": "stream",
     "text": [
      "1507\n"
     ]
    }
   ],
   "source": [
    "console.log(student.hall)"
   ]
  },
  {
   "cell_type": "code",
   "execution_count": 16,
   "metadata": {},
   "outputs": [
    {
     "name": "stdout",
     "output_type": "stream",
     "text": [
      "7\n"
     ]
    }
   ],
   "source": [
    "console.log(student.classes.length)"
   ]
  },
  {
   "cell_type": "code",
   "execution_count": 17,
   "metadata": {},
   "outputs": [
    {
     "name": "stdout",
     "output_type": "stream",
     "text": [
      "false\n"
     ]
    }
   ],
   "source": [
    "console.log(student.classes[0])"
   ]
  },
  {
   "cell_type": "code",
   "execution_count": 18,
   "metadata": {},
   "outputs": [
    {
     "name": "stdout",
     "output_type": "stream",
     "text": [
      "2\n"
     ]
    }
   ],
   "source": [
    "console.log(student.classes[4].length)"
   ]
  },
  {
   "cell_type": "markdown",
   "metadata": {},
   "source": [
    "## Practice Exercises"
   ]
  },
  {
   "cell_type": "markdown",
   "metadata": {},
   "source": [
    "* Create an object to represent potential users on a social media network.\n",
    "    * Use all the datatypes mentioned in this document\n",
    "    * Use the `typeof()` function and some arithmetic operators (look up what these are in JS!) each at least twice"
   ]
  },
  {
   "cell_type": "markdown",
   "metadata": {},
   "source": [
    "## Additional Resources"
   ]
  },
  {
   "cell_type": "markdown",
   "metadata": {},
   "source": [
    "https://stackoverflow.com/questions/1288594/what-are-javascript-data-types  \n",
    "https://developer.mozilla.org/en-US/docs/Web/JavaScript/Data_structures  \n"
   ]
  }
 ],
 "metadata": {
  "kernelspec": {
   "display_name": "Javascript (Node.js)",
   "language": "javascript",
   "name": "javascript"
  },
  "language_info": {
   "file_extension": ".js",
   "mimetype": "application/javascript",
   "name": "javascript",
   "version": "12.16.1"
  }
 },
 "nbformat": 4,
 "nbformat_minor": 4
}
