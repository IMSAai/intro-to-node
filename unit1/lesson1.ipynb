{
 "cells": [
  {
   "cell_type": "markdown",
   "metadata": {},
   "source": [
    "# Unit 1, Lesson 1\n",
    "$\\textbf{What is Node.JS?}$  \n",
    "$\\text{Written by:}  $  \n",
    "$\\text{Dev Singh, Class of 2022}$  \n",
    "$\\text{Last Revised: March 2020}$"
   ]
  },
  {
   "cell_type": "markdown",
   "metadata": {},
   "source": [
    "As supplied by the Node.JS official documentation, Node.JS is: “…a platform built on Chrome's JavaScript runtime for easily building fast and scalable network applications.  \n",
    "Node.js uses an event-driven, non-blocking I/O model that makes it lightweight and efficient, perfect for data-intensive real-time applications that run across distributed devices”. But what does this mean?\n"
   ]
  },
  {
   "cell_type": "markdown",
   "metadata": {},
   "source": [
    "## Server-side vs. Client-side"
   ]
  },
  {
   "cell_type": "markdown",
   "metadata": {},
   "source": [
    "Code generally runs in two areas; server-side and client-side (hazard a guess as to what those mean). Node.JS runs on the server-side, whereas traditional JS runs on the client-side. This model makes Node.JS excellent for working on the backend (APIs, smart home, etc). Node.js can generate dynamic page content, edit databases, collect form data, and so much more. \n"
   ]
  },
  {
   "cell_type": "markdown",
   "metadata": {},
   "source": [
    "Some enterprising developers have also adapted Node.JS to work on the client-side to create things like desktop and mobile apps, although those are more akin to standard JS. It’s important to note that Node.JS and vanilla (non-modified) JS are very similar syntactically: the key difference between the two is where they are used. \n"
   ]
  },
  {
   "cell_type": "markdown",
   "metadata": {},
   "source": [
    "## Benefits of Node.JS"
   ]
  },
  {
   "cell_type": "markdown",
   "metadata": {},
   "source": [
    "* Node.JS can run on various operating systems (Windows, Mac, Linux, FreeBSD/Unix, Android, etc).\n",
    "* Node.JS files, like vanilla JS files, end in the ‘.js’ file extension.\n",
    "* Since Node.JS is so syntactically similar to vanilla JS, front-end developers can use the same skills on the frontend as they do on the backend. This versatility allows for cleaner and more consistent codebases, and also allows front-end developers to become full-stack, or both front-end and back-end developers, very quickly.\n",
    "* Node.JS has a large ecosystem of open-source libraries, allowing you to write less overall code and focus on creating an application.\n",
    "* Node.JS is very fast! When PayPal transitioned from using Java to using Node.JS, they were able to handle double the number of requests per second, and saw a 35% decrease in the average response time for the same page [(source)](https://medium.com/paypal-engineering/node-js-at-paypal-4e2d1d08ce4f).\n",
    "\n",
    "\n"
   ]
  },
  {
   "cell_type": "markdown",
   "metadata": {},
   "source": [
    "## Chrome’s JavaScript Runtime\n"
   ]
  },
  {
   "cell_type": "markdown",
   "metadata": {},
   "source": [
    "Chrome is known for utilizing a super-fast runtime for running JavaScript in the browser known as V8. V8 was created by Google for their Chrome/Chromium set of browsers as a way to speed up the user experience. V8 is unique in that it compiles JavaScript directly to machine-readable bytecode instead of more traditional methods, such as interpreting bytecode (official Python) or compilation (C-based languages, Dart). The main thing you need to really know for our purposes is that V8 is fast and is the basis for Node.JS code interpretation.  \n"
   ]
  },
  {
   "cell_type": "markdown",
   "metadata": {},
   "source": [
    "## Event-driven, Non-Blocking IO"
   ]
  },
  {
   "cell_type": "markdown",
   "metadata": {},
   "source": [
    "Traditional languages are generally considered blocking languages; while one action is being done, nothing else can occur on that same thread. One statement waits for the other to complete. This model, as you can probably guess, is pretty slow. Node.JS utilizes a non-blocking model where Node.JS utilizes callbacks (which we will discuss) to start the execution of multiple statements at the same time to minimize the time taken to complete a task. This non-blocking model is what makes Node.JS “lightweight and efficient”. \n"
   ]
  },
  {
   "cell_type": "markdown",
   "metadata": {},
   "source": [
    "## When should you use Node?\n"
   ]
  },
  {
   "cell_type": "markdown",
   "metadata": {},
   "source": [
    "Node is generally used for I/O bound applications, Data streaming applications (Web), web APIs, and other web purposes. You should not use Node.JS for CPU intensive tasks (such as cryptography), since Node is single threaded. "
   ]
  },
  {
   "cell_type": "markdown",
   "metadata": {},
   "source": [
    "## References and Additional Information"
   ]
  },
  {
   "cell_type": "markdown",
   "metadata": {},
   "source": [
    "https://nodejs.org/en/about/  \n",
    "https://nodejs.org/en/docs/guides/blocking-vs-non-blocking/\n"
   ]
  }
 ],
 "metadata": {
  "kernelspec": {
   "display_name": "Javascript (Node.js)",
   "language": "javascript",
   "name": "javascript"
  },
  "language_info": {
   "file_extension": ".js",
   "mimetype": "application/javascript",
   "name": "javascript",
   "version": "12.16.1"
  }
 },
 "nbformat": 4,
 "nbformat_minor": 4
}
